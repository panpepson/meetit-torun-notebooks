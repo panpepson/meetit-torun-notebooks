{
 "cells": [
  {
   "cell_type": "markdown",
   "metadata": {},
   "source": [
    "# Journal"
   ]
  },
  {
   "cell_type": "markdown",
   "metadata": {},
   "source": [
    "Read raw json files to DataFrame"
   ]
  },
  {
   "cell_type": "code",
   "execution_count": null,
   "metadata": {
    "collapsed": false
   },
   "outputs": [],
   "source": [
    "journal = sqlContext.read.json(\"../vpsdata/journal*\")"
   ]
  },
  {
   "cell_type": "markdown",
   "metadata": {},
   "source": [
    "Remove duplicates, format date and save as parquet files"
   ]
  },
  {
   "cell_type": "code",
   "execution_count": null,
   "metadata": {
    "collapsed": false
   },
   "outputs": [],
   "source": [
    "from pyspark.sql.functions import *\n",
    "from pyspark.sql.types import TimestampType\n",
    "\n",
    "journal.withColumn('changeDate', col('changeDate').cast(TimestampType())) \\\n",
    "  .distinct().repartition(50).write.parquet(\"journal\")"
   ]
  },
  {
   "cell_type": "markdown",
   "metadata": {},
   "source": [
    "# Items"
   ]
  },
  {
   "cell_type": "markdown",
   "metadata": {},
   "source": [
    "Read raw jsons to DataFrame"
   ]
  },
  {
   "cell_type": "code",
   "execution_count": null,
   "metadata": {
    "collapsed": false
   },
   "outputs": [],
   "source": [
    "items = sqlContext.read.json(\"../vpsdata/items*\")\n",
    "schema = items.schema"
   ]
  },
  {
   "cell_type": "markdown",
   "metadata": {},
   "source": [
    "Reduce items by getting latest and save as parquet"
   ]
  },
  {
   "cell_type": "code",
   "execution_count": null,
   "metadata": {
    "collapsed": false
   },
   "outputs": [],
   "source": [
    "reduced_items_rdd = items.map(lambda i: (i.itemInfo.itId, i)) \\\n",
    "    .reduceByKey(lambda i1, i2: i1 if i1.itemInfo.itHitCount > i2.itemInfo.itHitCount else i2) \\\n",
    "    .map(lambda a: a[1])\n",
    "    \n",
    "sqlContext.createDataFrame(reduced_items_rdd, schema).repartition(30).write.parquet(\"items\")"
   ]
  },
  {
   "cell_type": "markdown",
   "metadata": {},
   "source": [
    "# Transactions"
   ]
  },
  {
   "cell_type": "markdown",
   "metadata": {},
   "source": [
    "Join journal buy-now events with items"
   ]
  },
  {
   "cell_type": "code",
   "execution_count": null,
   "metadata": {
    "collapsed": true
   },
   "outputs": [],
   "source": [
    "journal = sqlContext.read.parquet(\"journal\")\n",
    "buynows = journal.where(col('changeType') == 'now')\n",
    "\n",
    "items = sqlContext.read.parquet(\"items\")\n",
    "\n",
    "transactions = buynows.join(items, buynows.itemId == items.itemInfo.itId)"
   ]
  },
  {
   "cell_type": "markdown",
   "metadata": {},
   "source": [
    "Remap structure and save"
   ]
  },
  {
   "cell_type": "code",
   "execution_count": null,
   "metadata": {
    "collapsed": true
   },
   "outputs": [],
   "source": [
    "from pyspark.sql.types import MapType, ArrayType, StringType\n",
    "\n",
    "def remap_attributes_funct(attributes):\n",
    "    try:\n",
    "        return {a.attribName: a.attribValues.item for a in attributes}\n",
    "    except:\n",
    "        return None\n",
    "\n",
    "make_cat_array = udf(lambda raw: [cat.catName for cat in raw], ArrayType(StringType()))\n",
    "remap_attributes = udf(remap_attributes_funct, MapType(keyType=StringType(), valueType=ArrayType(StringType())))\n",
    "\n",
    "transactions \\\n",
    "    .where(col('itemCats.item').isNotNull()) \\\n",
    "    .select(\n",
    "        col('changeDate').cast(pyspark.sql.types.TimestampType()).alias('date'),\n",
    "        col('itemId'),\n",
    "        col('itemInfo.itName').alias('name'),\n",
    "        col('itemInfo.itBuyNowPrice').cast('decimal(10,2)').alias('price'),\n",
    "        col('itemInfo.itSellerLogin').alias('seller'),\n",
    "        col('itemCats.item')[size('itemCats.item') - 1].catId.alias('categoryId'),\n",
    "        make_cat_array(col('itemCats.item')).alias('categories'),\n",
    "        remap_attributes(col('itemAttribs.item')).alias('attributes')\n",
    "    ).write \\\n",
    "    .parquet(\"transactions\")"
   ]
  }
 ],
 "metadata": {
  "kernelspec": {
   "display_name": "Python 3",
   "language": "python",
   "name": "python3"
  },
  "language_info": {
   "codemirror_mode": {
    "name": "ipython",
    "version": 3
   },
   "file_extension": ".py",
   "mimetype": "text/x-python",
   "name": "python",
   "nbconvert_exporter": "python",
   "pygments_lexer": "ipython3",
   "version": "3.4.3"
  }
 },
 "nbformat": 4,
 "nbformat_minor": 0
}
