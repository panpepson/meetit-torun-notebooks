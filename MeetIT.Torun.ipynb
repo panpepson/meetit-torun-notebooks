{
 "cells": [
  {
   "cell_type": "markdown",
   "metadata": {},
   "source": [
    "# Meet IT Toruń #2\n",
    "\n",
    "## Statystyki transakcji na allegro w dniach 8.02 - 14.02"
   ]
  },
  {
   "cell_type": "code",
   "execution_count": 49,
   "metadata": {
    "collapsed": false
   },
   "outputs": [],
   "source": [
    "%matplotlib inline\n",
    "from pyspark.sql.functions import *"
   ]
  },
  {
   "cell_type": "code",
   "execution_count": null,
   "metadata": {
    "collapsed": false
   },
   "outputs": [],
   "source": [
    "transactions = sqlContext.read.parquet(\"transactions_week\").cache()"
   ]
  },
  {
   "cell_type": "code",
   "execution_count": 50,
   "metadata": {
    "collapsed": false
   },
   "outputs": [
    {
     "name": "stdout",
     "output_type": "stream",
     "text": [
      "root\n",
      " |-- date: timestamp (nullable = true)\n",
      " |-- itemId: long (nullable = true)\n",
      " |-- name: string (nullable = true)\n",
      " |-- price: decimal(10,2) (nullable = true)\n",
      " |-- seller: string (nullable = true)\n",
      " |-- categoryId: long (nullable = true)\n",
      " |-- categories: array (nullable = true)\n",
      " |    |-- element: string (containsNull = true)\n",
      " |-- attributes: map (nullable = true)\n",
      " |    |-- key: string\n",
      " |    |-- value: array (valueContainsNull = true)\n",
      " |    |    |-- element: string (containsNull = true)\n",
      "\n"
     ]
    },
    {
     "data": {
      "text/plain": [
       "3185232"
      ]
     },
     "execution_count": 50,
     "metadata": {},
     "output_type": "execute_result"
    }
   ],
   "source": [
    "transactions.printSchema()\n",
    "transactions.count()"
   ]
  },
  {
   "cell_type": "markdown",
   "metadata": {},
   "source": [
    "## Najpopularniejszy przedmiot"
   ]
  },
  {
   "cell_type": "code",
   "execution_count": 54,
   "metadata": {
    "collapsed": false
   },
   "outputs": [
    {
     "name": "stdout",
     "output_type": "stream",
     "text": [
      "+----------+--------+--------------------------------------------------+\n",
      "|itemId    |count(1)|first(name)()                                     |\n",
      "+----------+--------+--------------------------------------------------+\n",
      "|5969695871|770     |1000 Coinsy CSGODOUBLE! Od FIRMY! Pewniak 100%    |\n",
      "|5960737558|634     |PLAYSTATION PLUS 14 DNI PS3 PS4 FIRMA AUTOMAT 24H7|\n",
      "|5453310670|580     |CATSHARE.NET 30  DNI + +GWARANCJA+AUTOMAT 60SEK   |\n",
      "|5968567670|522     |1000 /COINSY CSGODOUBLE /PEWNA FIRMA! CS:GO KLUCZE|\n",
      "|5933181572|502     |P NIESAMOWICIE SEKSOWNE LEGGINSY PUSH UP HIT P734 |\n",
      "|5872085932|409     |PROMOCJA CHOMIKUJ 5 GB TRANSFER AUTOMAT 48        |\n",
      "|5836564126|407     |KOŃCÓWKI DO SZCZOTECZKI ORAL-B I 3D WHITE 8 SZTUK |\n",
      "|5960570296|370     |PAYSAFECARD 50ZŁ PROMOCJA AUTOMAT 24/7 2 MINUTY ! |\n",
      "|5794943389|369     |VILEDA MOP OBROTOWY Easy Wring and Clean SPIN MOP |\n",
      "|5735073662|362     |ZESTAW XXL 7x SEMILAC LAMPA LED Mostek 9W - HIT   |\n",
      "|5960552581|362     |PAYSAFECARD 20ZŁ PROMOCJA AUTOMAT 24/7 2 MINUTY ! |\n",
      "|5972199876|346     |CS:GO GIFT STEAM COUNTER STRIKE GLOBAL OFFENSIVE  |\n",
      "|5747311912|328     |ZESTAW XXXL 5x SEMILAC LAMPA UV Cleaner Aceton HIT|\n",
      "|5765703250|313     |XBOX LIVE GOLD 1 Miesiąc  |  AUTOMAT 24/7  |  PL  |\n",
      "|5965314797|305     |XBOX LIVE GOLD 3 MIESIĄCE PL EU US - AUTOMAT 24/7 |\n",
      "|5746355357|304     |MAGICZNY kubek KOCHAM CIĘ serce prezent WALENTYNKI|\n",
      "|5816298645|297     |Podwójny brelok I LOVE YOU - idealny na prezent   |\n",
      "|5872180183|293     |TERMOMETR RTĘCIOWY TERMOMETR LEKARSKI             |\n",
      "|5971008269|293     |VILEDA Zestaw ULTRAMAX BOX mop+wiadro+wyciskacz   |\n",
      "|5825684638|282     |KINGSTON KARTA PAMIĘCI 32 GB MICRO SD CLASS 10 HD |\n",
      "+----------+--------+--------------------------------------------------+\n",
      "only showing top 20 rows\n",
      "\n"
     ]
    }
   ],
   "source": [
    "transactions.groupBy('itemId') \\\n",
    "    .agg(count('*'), first('name')) \\\n",
    "    .orderBy(desc('count(1)')).show(truncate=False)"
   ]
  },
  {
   "cell_type": "markdown",
   "metadata": {},
   "source": [
    "## Najpopularniejsza kategoria"
   ]
  },
  {
   "cell_type": "code",
   "execution_count": 56,
   "metadata": {
    "collapsed": false
   },
   "outputs": [
    {
     "data": {
      "text/html": [
       "<div>\n",
       "<table border=\"1\" class=\"dataframe\">\n",
       "  <thead>\n",
       "    <tr style=\"text-align: right;\">\n",
       "      <th></th>\n",
       "      <th>categories</th>\n",
       "      <th>count(1)</th>\n",
       "    </tr>\n",
       "  </thead>\n",
       "  <tbody>\n",
       "    <tr>\n",
       "      <th>0</th>\n",
       "      <td>[Dom i Ogród, Wyposażenie, Oświetlenie, Źródła...</td>\n",
       "      <td>21581</td>\n",
       "    </tr>\n",
       "    <tr>\n",
       "      <th>1</th>\n",
       "      <td>[Telefony i Akcesoria, Akcesoria GSM, Folie oc...</td>\n",
       "      <td>21375</td>\n",
       "    </tr>\n",
       "    <tr>\n",
       "      <th>2</th>\n",
       "      <td>[Dom i Ogród, Ogród, Rośliny, Nasiona, Warzywa]</td>\n",
       "      <td>16097</td>\n",
       "    </tr>\n",
       "    <tr>\n",
       "      <th>3</th>\n",
       "      <td>[Odzież, Obuwie, Dodatki, Odzież damska, Sukie...</td>\n",
       "      <td>15978</td>\n",
       "    </tr>\n",
       "    <tr>\n",
       "      <th>4</th>\n",
       "      <td>[Odzież, Obuwie, Dodatki, Odzież damska, Bluzki]</td>\n",
       "      <td>14157</td>\n",
       "    </tr>\n",
       "    <tr>\n",
       "      <th>5</th>\n",
       "      <td>[Uroda, Manicure i pedicure, Ozdoby]</td>\n",
       "      <td>14130</td>\n",
       "    </tr>\n",
       "    <tr>\n",
       "      <th>6</th>\n",
       "      <td>[Uroda, Manicure i pedicure, Lakiery hybrydowe]</td>\n",
       "      <td>13015</td>\n",
       "    </tr>\n",
       "    <tr>\n",
       "      <th>7</th>\n",
       "      <td>[Uroda, Makijaż, Twarz, Podkłady]</td>\n",
       "      <td>12523</td>\n",
       "    </tr>\n",
       "    <tr>\n",
       "      <th>8</th>\n",
       "      <td>[Telefony i Akcesoria, Akcesoria GSM, Pokrowce...</td>\n",
       "      <td>11852</td>\n",
       "    </tr>\n",
       "    <tr>\n",
       "      <th>9</th>\n",
       "      <td>[Dom i Ogród, Wyposażenie, Oświetlenie, Lampy]</td>\n",
       "      <td>10920</td>\n",
       "    </tr>\n",
       "    <tr>\n",
       "      <th>10</th>\n",
       "      <td>[Uroda, Manicure i pedicure, Akcesoria i przyb...</td>\n",
       "      <td>10727</td>\n",
       "    </tr>\n",
       "    <tr>\n",
       "      <th>11</th>\n",
       "      <td>[Dom i Ogród, Zwierzęta, Dla psów, Karmy, Such...</td>\n",
       "      <td>10227</td>\n",
       "    </tr>\n",
       "    <tr>\n",
       "      <th>12</th>\n",
       "      <td>[Odzież, Obuwie, Dodatki, Galanteria i dodatki...</td>\n",
       "      <td>10017</td>\n",
       "    </tr>\n",
       "    <tr>\n",
       "      <th>13</th>\n",
       "      <td>[Motoryzacja, Części samochodowe, Oświetlenie,...</td>\n",
       "      <td>9881</td>\n",
       "    </tr>\n",
       "    <tr>\n",
       "      <th>14</th>\n",
       "      <td>[Telefony i Akcesoria, Akcesoria GSM, Pokrowce...</td>\n",
       "      <td>9635</td>\n",
       "    </tr>\n",
       "    <tr>\n",
       "      <th>15</th>\n",
       "      <td>[Odzież, Obuwie, Dodatki, Odzież i bielizna mę...</td>\n",
       "      <td>9024</td>\n",
       "    </tr>\n",
       "    <tr>\n",
       "      <th>16</th>\n",
       "      <td>[Telefony i Akcesoria, Akcesoria GSM, Pokrowce...</td>\n",
       "      <td>8572</td>\n",
       "    </tr>\n",
       "    <tr>\n",
       "      <th>17</th>\n",
       "      <td>[Gry, Komputerowe PC, Gry akcji]</td>\n",
       "      <td>8476</td>\n",
       "    </tr>\n",
       "    <tr>\n",
       "      <th>18</th>\n",
       "      <td>[Telefony i Akcesoria, Akcesoria GSM, Baterie,...</td>\n",
       "      <td>8428</td>\n",
       "    </tr>\n",
       "    <tr>\n",
       "      <th>19</th>\n",
       "      <td>[Biżuteria i Zegarki, Zegarki, Damskie, Naręczne]</td>\n",
       "      <td>8409</td>\n",
       "    </tr>\n",
       "    <tr>\n",
       "      <th>20</th>\n",
       "      <td>[Odzież, Obuwie, Dodatki, Obuwie, Damskie, Botki]</td>\n",
       "      <td>8334</td>\n",
       "    </tr>\n",
       "    <tr>\n",
       "      <th>21</th>\n",
       "      <td>[Odzież, Obuwie, Dodatki, Bielizna damska, Maj...</td>\n",
       "      <td>8197</td>\n",
       "    </tr>\n",
       "    <tr>\n",
       "      <th>22</th>\n",
       "      <td>[Odzież, Obuwie, Dodatki, Bielizna damska, Biu...</td>\n",
       "      <td>8177</td>\n",
       "    </tr>\n",
       "    <tr>\n",
       "      <th>23</th>\n",
       "      <td>[Biżuteria i Zegarki, Biżuteria damska, Branso...</td>\n",
       "      <td>8055</td>\n",
       "    </tr>\n",
       "    <tr>\n",
       "      <th>24</th>\n",
       "      <td>[Rękodzieło, Decoupage, Przedmioty do ozdabiania]</td>\n",
       "      <td>7913</td>\n",
       "    </tr>\n",
       "    <tr>\n",
       "      <th>25</th>\n",
       "      <td>[Książki i Komiksy, Literatura piękna, popular...</td>\n",
       "      <td>7853</td>\n",
       "    </tr>\n",
       "    <tr>\n",
       "      <th>26</th>\n",
       "      <td>[Dom i Ogród, Wyposażenie, Pościel i koce, Kom...</td>\n",
       "      <td>7694</td>\n",
       "    </tr>\n",
       "    <tr>\n",
       "      <th>27</th>\n",
       "      <td>[Zdrowie, Korekcja wzroku, Soczewki kontaktowe]</td>\n",
       "      <td>7546</td>\n",
       "    </tr>\n",
       "    <tr>\n",
       "      <th>28</th>\n",
       "      <td>[Dla Dzieci, Zabawki, Figurki]</td>\n",
       "      <td>7536</td>\n",
       "    </tr>\n",
       "    <tr>\n",
       "      <th>29</th>\n",
       "      <td>[Biżuteria i Zegarki, Biżuteria damska, Kolczyki]</td>\n",
       "      <td>7397</td>\n",
       "    </tr>\n",
       "    <tr>\n",
       "      <th>...</th>\n",
       "      <td>...</td>\n",
       "      <td>...</td>\n",
       "    </tr>\n",
       "    <tr>\n",
       "      <th>11204</th>\n",
       "      <td>[Motoryzacja, Samochody, Osobowe, Nissan, Patr...</td>\n",
       "      <td>1</td>\n",
       "    </tr>\n",
       "    <tr>\n",
       "      <th>11205</th>\n",
       "      <td>[Przemysł, Wyposażenie pomieszczeń, Rolnicze, ...</td>\n",
       "      <td>1</td>\n",
       "    </tr>\n",
       "    <tr>\n",
       "      <th>11206</th>\n",
       "      <td>[Motoryzacja, Samochody, Osobowe, Honda, Accor...</td>\n",
       "      <td>1</td>\n",
       "    </tr>\n",
       "    <tr>\n",
       "      <th>11207</th>\n",
       "      <td>[Instrumenty, Gitary i akcesoria, Akustyczne, ...</td>\n",
       "      <td>1</td>\n",
       "    </tr>\n",
       "    <tr>\n",
       "      <th>11208</th>\n",
       "      <td>[Telefony i Akcesoria, Telefony komórkowe, Sam...</td>\n",
       "      <td>1</td>\n",
       "    </tr>\n",
       "    <tr>\n",
       "      <th>11209</th>\n",
       "      <td>[Dom i Ogród, Wyposażenie, Ozdoby świąteczne, ...</td>\n",
       "      <td>1</td>\n",
       "    </tr>\n",
       "    <tr>\n",
       "      <th>11210</th>\n",
       "      <td>[Telefony i Akcesoria, Telefony komórkowe, Hua...</td>\n",
       "      <td>1</td>\n",
       "    </tr>\n",
       "    <tr>\n",
       "      <th>11211</th>\n",
       "      <td>[RTV i AGD, Sprzęt car audio, Radioodtwarzacze...</td>\n",
       "      <td>1</td>\n",
       "    </tr>\n",
       "    <tr>\n",
       "      <th>11212</th>\n",
       "      <td>[Sport i Turystyka, Sporty wodne, Windsurfing,...</td>\n",
       "      <td>1</td>\n",
       "    </tr>\n",
       "    <tr>\n",
       "      <th>11213</th>\n",
       "      <td>[Telefony i Akcesoria, Telefony komórkowe, Son...</td>\n",
       "      <td>1</td>\n",
       "    </tr>\n",
       "    <tr>\n",
       "      <th>11214</th>\n",
       "      <td>[Komputery, Palmtopy, Urządzenia, Asus]</td>\n",
       "      <td>1</td>\n",
       "    </tr>\n",
       "    <tr>\n",
       "      <th>11215</th>\n",
       "      <td>[Motoryzacja, Samochody, Osobowe, Jaguar, X-Type]</td>\n",
       "      <td>1</td>\n",
       "    </tr>\n",
       "    <tr>\n",
       "      <th>11216</th>\n",
       "      <td>[Fotografia, Aparaty cyfrowe, Kompaktowe, Pola...</td>\n",
       "      <td>1</td>\n",
       "    </tr>\n",
       "    <tr>\n",
       "      <th>11217</th>\n",
       "      <td>[Instrumenty, Gitary i akcesoria, Elektryczne,...</td>\n",
       "      <td>1</td>\n",
       "    </tr>\n",
       "    <tr>\n",
       "      <th>11218</th>\n",
       "      <td>[Dla Dzieci, Odzież, Garnitury, Inny rozmiar]</td>\n",
       "      <td>1</td>\n",
       "    </tr>\n",
       "    <tr>\n",
       "      <th>11219</th>\n",
       "      <td>[Kolekcje, Numizmatyka, Literatura, Czasopisma]</td>\n",
       "      <td>1</td>\n",
       "    </tr>\n",
       "    <tr>\n",
       "      <th>11220</th>\n",
       "      <td>[Motoryzacja, Samochody, Osobowe, Audi, Pozost...</td>\n",
       "      <td>1</td>\n",
       "    </tr>\n",
       "    <tr>\n",
       "      <th>11221</th>\n",
       "      <td>[Książki i Komiksy, Ebooki, Popularnonaukowe i...</td>\n",
       "      <td>1</td>\n",
       "    </tr>\n",
       "    <tr>\n",
       "      <th>11222</th>\n",
       "      <td>[Komputery, Podzespoły bazowe, Płyty główne, S...</td>\n",
       "      <td>1</td>\n",
       "    </tr>\n",
       "    <tr>\n",
       "      <th>11223</th>\n",
       "      <td>[Motoryzacja, Części do maszyn, Części do masz...</td>\n",
       "      <td>1</td>\n",
       "    </tr>\n",
       "    <tr>\n",
       "      <th>11224</th>\n",
       "      <td>[Kolekcje, Numizmatyka, Pozostałe, Plomby]</td>\n",
       "      <td>1</td>\n",
       "    </tr>\n",
       "    <tr>\n",
       "      <th>11225</th>\n",
       "      <td>[Sport i Turystyka, Sporty wodne, Żeglarstwo, ...</td>\n",
       "      <td>1</td>\n",
       "    </tr>\n",
       "    <tr>\n",
       "      <th>11226</th>\n",
       "      <td>[Komputery, Laptopy, Uszkodzone, Packard Bell]</td>\n",
       "      <td>1</td>\n",
       "    </tr>\n",
       "    <tr>\n",
       "      <th>11227</th>\n",
       "      <td>[Wakacje, Sport i rekreacja, Pozostałe]</td>\n",
       "      <td>1</td>\n",
       "    </tr>\n",
       "    <tr>\n",
       "      <th>11228</th>\n",
       "      <td>[Motoryzacja, Samochody, Osobowe, Volvo, V60]</td>\n",
       "      <td>1</td>\n",
       "    </tr>\n",
       "    <tr>\n",
       "      <th>11229</th>\n",
       "      <td>[Sport i Turystyka, Sporty wodne, Żeglarstwo, ...</td>\n",
       "      <td>1</td>\n",
       "    </tr>\n",
       "    <tr>\n",
       "      <th>11230</th>\n",
       "      <td>[Kolekcje, Militaria, Umundurowanie i Wyposaże...</td>\n",
       "      <td>1</td>\n",
       "    </tr>\n",
       "    <tr>\n",
       "      <th>11231</th>\n",
       "      <td>[Telefony i Akcesoria, Telefony komórkowe, Nok...</td>\n",
       "      <td>1</td>\n",
       "    </tr>\n",
       "    <tr>\n",
       "      <th>11232</th>\n",
       "      <td>[Telefony i Akcesoria, Telefony komórkowe, Sam...</td>\n",
       "      <td>1</td>\n",
       "    </tr>\n",
       "    <tr>\n",
       "      <th>11233</th>\n",
       "      <td>[Motoryzacja, Samochody, Osobowe, Mercedes-Ben...</td>\n",
       "      <td>1</td>\n",
       "    </tr>\n",
       "  </tbody>\n",
       "</table>\n",
       "<p>11234 rows × 2 columns</p>\n",
       "</div>"
      ],
      "text/plain": [
       "                                              categories  count(1)\n",
       "0      [Dom i Ogród, Wyposażenie, Oświetlenie, Źródła...     21581\n",
       "1      [Telefony i Akcesoria, Akcesoria GSM, Folie oc...     21375\n",
       "2        [Dom i Ogród, Ogród, Rośliny, Nasiona, Warzywa]     16097\n",
       "3      [Odzież, Obuwie, Dodatki, Odzież damska, Sukie...     15978\n",
       "4       [Odzież, Obuwie, Dodatki, Odzież damska, Bluzki]     14157\n",
       "5                   [Uroda, Manicure i pedicure, Ozdoby]     14130\n",
       "6        [Uroda, Manicure i pedicure, Lakiery hybrydowe]     13015\n",
       "7                      [Uroda, Makijaż, Twarz, Podkłady]     12523\n",
       "8      [Telefony i Akcesoria, Akcesoria GSM, Pokrowce...     11852\n",
       "9         [Dom i Ogród, Wyposażenie, Oświetlenie, Lampy]     10920\n",
       "10     [Uroda, Manicure i pedicure, Akcesoria i przyb...     10727\n",
       "11     [Dom i Ogród, Zwierzęta, Dla psów, Karmy, Such...     10227\n",
       "12     [Odzież, Obuwie, Dodatki, Galanteria i dodatki...     10017\n",
       "13     [Motoryzacja, Części samochodowe, Oświetlenie,...      9881\n",
       "14     [Telefony i Akcesoria, Akcesoria GSM, Pokrowce...      9635\n",
       "15     [Odzież, Obuwie, Dodatki, Odzież i bielizna mę...      9024\n",
       "16     [Telefony i Akcesoria, Akcesoria GSM, Pokrowce...      8572\n",
       "17                      [Gry, Komputerowe PC, Gry akcji]      8476\n",
       "18     [Telefony i Akcesoria, Akcesoria GSM, Baterie,...      8428\n",
       "19     [Biżuteria i Zegarki, Zegarki, Damskie, Naręczne]      8409\n",
       "20     [Odzież, Obuwie, Dodatki, Obuwie, Damskie, Botki]      8334\n",
       "21     [Odzież, Obuwie, Dodatki, Bielizna damska, Maj...      8197\n",
       "22     [Odzież, Obuwie, Dodatki, Bielizna damska, Biu...      8177\n",
       "23     [Biżuteria i Zegarki, Biżuteria damska, Branso...      8055\n",
       "24     [Rękodzieło, Decoupage, Przedmioty do ozdabiania]      7913\n",
       "25     [Książki i Komiksy, Literatura piękna, popular...      7853\n",
       "26     [Dom i Ogród, Wyposażenie, Pościel i koce, Kom...      7694\n",
       "27       [Zdrowie, Korekcja wzroku, Soczewki kontaktowe]      7546\n",
       "28                        [Dla Dzieci, Zabawki, Figurki]      7536\n",
       "29     [Biżuteria i Zegarki, Biżuteria damska, Kolczyki]      7397\n",
       "...                                                  ...       ...\n",
       "11204  [Motoryzacja, Samochody, Osobowe, Nissan, Patr...         1\n",
       "11205  [Przemysł, Wyposażenie pomieszczeń, Rolnicze, ...         1\n",
       "11206  [Motoryzacja, Samochody, Osobowe, Honda, Accor...         1\n",
       "11207  [Instrumenty, Gitary i akcesoria, Akustyczne, ...         1\n",
       "11208  [Telefony i Akcesoria, Telefony komórkowe, Sam...         1\n",
       "11209  [Dom i Ogród, Wyposażenie, Ozdoby świąteczne, ...         1\n",
       "11210  [Telefony i Akcesoria, Telefony komórkowe, Hua...         1\n",
       "11211  [RTV i AGD, Sprzęt car audio, Radioodtwarzacze...         1\n",
       "11212  [Sport i Turystyka, Sporty wodne, Windsurfing,...         1\n",
       "11213  [Telefony i Akcesoria, Telefony komórkowe, Son...         1\n",
       "11214            [Komputery, Palmtopy, Urządzenia, Asus]         1\n",
       "11215  [Motoryzacja, Samochody, Osobowe, Jaguar, X-Type]         1\n",
       "11216  [Fotografia, Aparaty cyfrowe, Kompaktowe, Pola...         1\n",
       "11217  [Instrumenty, Gitary i akcesoria, Elektryczne,...         1\n",
       "11218      [Dla Dzieci, Odzież, Garnitury, Inny rozmiar]         1\n",
       "11219    [Kolekcje, Numizmatyka, Literatura, Czasopisma]         1\n",
       "11220  [Motoryzacja, Samochody, Osobowe, Audi, Pozost...         1\n",
       "11221  [Książki i Komiksy, Ebooki, Popularnonaukowe i...         1\n",
       "11222  [Komputery, Podzespoły bazowe, Płyty główne, S...         1\n",
       "11223  [Motoryzacja, Części do maszyn, Części do masz...         1\n",
       "11224         [Kolekcje, Numizmatyka, Pozostałe, Plomby]         1\n",
       "11225  [Sport i Turystyka, Sporty wodne, Żeglarstwo, ...         1\n",
       "11226     [Komputery, Laptopy, Uszkodzone, Packard Bell]         1\n",
       "11227            [Wakacje, Sport i rekreacja, Pozostałe]         1\n",
       "11228      [Motoryzacja, Samochody, Osobowe, Volvo, V60]         1\n",
       "11229  [Sport i Turystyka, Sporty wodne, Żeglarstwo, ...         1\n",
       "11230  [Kolekcje, Militaria, Umundurowanie i Wyposaże...         1\n",
       "11231  [Telefony i Akcesoria, Telefony komórkowe, Nok...         1\n",
       "11232  [Telefony i Akcesoria, Telefony komórkowe, Sam...         1\n",
       "11233  [Motoryzacja, Samochody, Osobowe, Mercedes-Ben...         1\n",
       "\n",
       "[11234 rows x 2 columns]"
      ]
     },
     "execution_count": 56,
     "metadata": {},
     "output_type": "execute_result"
    }
   ],
   "source": [
    "transactions.groupBy('categories') \\\n",
    "    .agg(count('*')).orderBy(desc('count(1)')).toPandas()"
   ]
  },
  {
   "cell_type": "code",
   "execution_count": 59,
   "metadata": {
    "collapsed": false
   },
   "outputs": [
    {
     "name": "stdout",
     "output_type": "stream",
     "text": [
      "+---------------------+--------+----------+\n",
      "|kind                 |count(1)|avg(price)|\n",
      "+---------------------+--------+----------+\n",
      "|Świetlówki           |201     |16.286567 |\n",
      "|Inne                 |322     |13.544689 |\n",
      "|Tradycyjne żarówki   |425     |10.380753 |\n",
      "|Świetlówki liniowe   |122     |14.145328 |\n",
      "|LED                  |19605   |21.941483 |\n",
      "|Halogenowe           |578     |20.131453 |\n",
      "|Świetlówki kompaktowe|328     |13.425610 |\n",
      "+---------------------+--------+----------+\n",
      "\n"
     ]
    }
   ],
   "source": [
    "transactions \\\n",
    "    .where(array_contains('categories', 'Źródła światła')) \\\n",
    "    .withColumn('kind', col('attributes')['Rodzaj'][0]) \\\n",
    "    .groupBy('kind').agg(count('*'), avg('price')).show(truncate=False)"
   ]
  },
  {
   "cell_type": "markdown",
   "metadata": {},
   "source": [
    "## Który sprzedawca miał najwięcej obrotu?"
   ]
  },
  {
   "cell_type": "code",
   "execution_count": 61,
   "metadata": {
    "collapsed": false
   },
   "outputs": [
    {
     "name": "stdout",
     "output_type": "stream",
     "text": [
      "+----------------+--------+----------+----------+\n",
      "|seller          |count(1)|avg(price)|sum(price)|\n",
      "+----------------+--------+----------+----------+\n",
      "|darmarsklep     |10948   |19.952975 |218445.17 |\n",
      "|kosmetyki_ck    |10059   |7.461081  |75051.01  |\n",
      "|Allegro         |9487    |185.191872|1756915.29|\n",
      "|Aros_pl         |8391    |17.932931 |150475.22 |\n",
      "|ezebra_pl       |8122    |14.023392 |113897.99 |\n",
      "|HubiWorld       |7693    |17.479511 |134469.88 |\n",
      "|Swiat____Dziecka|7113    |16.023987 |113978.62 |\n",
      "|leobert         |6935    |24.017246 |166559.60 |\n",
      "|korob_pl        |6604    |30.573539 |201907.65 |\n",
      "|uroda-i-ty      |6555    |19.249286 |126179.07 |\n",
      "|telmal_store    |6498    |10.359888 |67318.55  |\n",
      "|niemchem_com    |5460    |20.690936 |112972.51 |\n",
      "|FH-MarTom       |5449    |10.089712 |54978.84  |\n",
      "|dlaauta         |5277    |37.911300 |200057.93 |\n",
      "|bdsklep_pl      |5062    |33.198621 |168051.42 |\n",
      "|X-KOM_PL        |5061    |557.823630|2823145.39|\n",
      "|kwiaty-Isabell  |4648    |3.425344  |15921.00  |\n",
      "|Bonus-sc        |4640    |8.815336  |40903.16  |\n",
      "|butiqjula       |4538    |26.919224 |122159.44 |\n",
      "|m-importer      |4379    |7.914574  |34657.92  |\n",
      "+----------------+--------+----------+----------+\n",
      "only showing top 20 rows\n",
      "\n"
     ]
    }
   ],
   "source": [
    "transactions.groupBy('seller') \\\n",
    "    .agg(count(\"*\"), avg('price'), sum('price')) \\\n",
    "    .orderBy(desc('count(1)')).show(truncate=False)"
   ]
  },
  {
   "cell_type": "markdown",
   "metadata": {},
   "source": [
    "## Ilość zakupów w głównych kategoriach"
   ]
  },
  {
   "cell_type": "code",
   "execution_count": 69,
   "metadata": {
    "collapsed": false
   },
   "outputs": [
    {
     "data": {
      "text/plain": [
       "<matplotlib.axes.AxesSubplot at 0x7fca5ad945c0>"
      ]
     },
     "execution_count": 69,
     "metadata": {},
     "output_type": "execute_result"
    },
    {
     "data": {
      "image/png": "[encoded data removed]",
      "text/plain": [
       "<matplotlib.figure.Figure at 0x7fca5adb7780>"
      ]
     },
     "metadata": {},
     "output_type": "display_data"
    }
   ],
   "source": [
    "transactions \\\n",
    "    .withColumn('main_category', col('categories')[0]) \\\n",
    "    .groupBy('main_category').agg(count('*')) \\\n",
    "    .orderBy('count(1)').toPandas() \\\n",
    "    .set_index('main_category').plot(y='count(1)', kind='pie', legend=False)"
   ]
  },
  {
   "cell_type": "markdown",
   "metadata": {},
   "source": [
    "## Rozkład cen przedmiotów poniżej 100 zł"
   ]
  },
  {
   "cell_type": "code",
   "execution_count": 73,
   "metadata": {
    "collapsed": false
   },
   "outputs": [
    {
     "data": {
      "text/plain": [
       "<matplotlib.axes.AxesSubplot at 0x7fca5af98f98>"
      ]
     },
     "execution_count": 73,
     "metadata": {},
     "output_type": "execute_result"
    },
    {
     "data": {
      "image/png": "[encoded data removed]",
      "text/plain": [
       "<matplotlib.figure.Figure at 0x7fca5abab5f8>"
      ]
     },
     "metadata": {},
     "output_type": "display_data"
    }
   ],
   "source": [
    "transactions \\\n",
    "    .select(col('price').cast('integer')) \\\n",
    "    .where(col('price') < 100) \\\n",
    "    .groupBy('price').agg(count('*')) \\\n",
    "    .orderBy('price').toPandas() \\\n",
    "    .set_index('price').plot(y='count(1)')"
   ]
  }
 ],
 "metadata": {
  "kernelspec": {
   "display_name": "Python 3",
   "language": "python",
   "name": "python3"
  },
  "language_info": {
   "codemirror_mode": {
    "name": "ipython",
    "version": 3
   },
   "file_extension": ".py",
   "mimetype": "text/x-python",
   "name": "python",
   "nbconvert_exporter": "python",
   "pygments_lexer": "ipython3",
   "version": "3.4.3"
  }
 },
 "nbformat": 4,
 "nbformat_minor": 0
}
